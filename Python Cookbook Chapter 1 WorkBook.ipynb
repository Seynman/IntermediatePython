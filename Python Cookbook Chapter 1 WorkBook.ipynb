{
 "cells": [
  {
   "cell_type": "markdown",
   "metadata": {},
   "source": [
    "## 将List分解为单独的变量"
   ]
  },
  {
   "cell_type": "code",
   "execution_count": null,
   "metadata": {
    "collapsed": true
   },
   "outputs": [],
   "source": [
    "data = ['ACME', 50, 91.1, (2012, 12, 21)]\n",
    "\n",
    "# TODO: 分离元素50并赋值给shares\n",
    "\n",
    "print(shares)"
   ]
  },
  {
   "cell_type": "markdown",
   "metadata": {},
   "source": [
    "写一个函数，将评委评分grades中的第一个和最后一个去掉，返回成绩的平均值"
   ]
  },
  {
   "cell_type": "code",
   "execution_count": 1,
   "metadata": {
    "collapsed": true
   },
   "outputs": [],
   "source": [
    "def drop_first_last(grades):\n",
    "    # TODO\n",
    "    return None"
   ]
  },
  {
   "cell_type": "markdown",
   "metadata": {},
   "source": [
    "分解用户记录中的名称、邮件、电话数据："
   ]
  },
  {
   "cell_type": "code",
   "execution_count": null,
   "metadata": {
    "collapsed": true
   },
   "outputs": [],
   "source": [
    "record = ('Caroline','lyj@gmail.com','133-9988-1748','218-417-3939','555-776-1234')\n",
    "# TODO\n",
    "\n",
    "print(name)\n",
    "print(email)\n",
    "print(phone)"
   ]
  },
  {
   "cell_type": "markdown",
   "metadata": {},
   "source": [
    "迭代一个带标记的元组List"
   ]
  },
  {
   "cell_type": "code",
   "execution_count": 2,
   "metadata": {
    "collapsed": true
   },
   "outputs": [],
   "source": [
    "records = [\n",
    "    ('foo',1,2),\n",
    "    ('bar','hello'),\n",
    "    ('foo',3,4)\n",
    "]\n",
    "\n",
    "def do_foo(x,y):\n",
    "    print('foo',x,y)\n",
    "    \n",
    "def bar(s):\n",
    "    print('bar',s)\n",
    "    \n",
    "# Todo: 依次print出records中的各元素\n"
   ]
  },
  {
   "cell_type": "markdown",
   "metadata": {},
   "source": [
    "进行拆分操作时，快速分离变量"
   ]
  },
  {
   "cell_type": "code",
   "execution_count": null,
   "metadata": {
    "collapsed": true
   },
   "outputs": [],
   "source": [
    "line = 'nobody:*:-2:-2:Unprivileged User:/var/empty:/usr/bin/false'\n",
    "\n",
    "# TODO: 把line拆分为 nobody、 /var/empty、/usr/bin/false和其他\n",
    "\n",
    "print(uname)\n",
    "print(homedir)\n",
    "print(sh)"
   ]
  },
  {
   "cell_type": "markdown",
   "metadata": {},
   "source": [
    "分解一些值并丢弃，使用'_'"
   ]
  },
  {
   "cell_type": "code",
   "execution_count": null,
   "metadata": {
    "collapsed": true
   },
   "outputs": [],
   "source": [
    "record = ('ACME', 50, 123.45, (12, 18, 2012))\n",
    "\n",
    "# TODO：拆除name为'ACME',year为2012\n",
    "\n",
    "print(name)\n",
    "print(year)"
   ]
  },
  {
   "cell_type": "markdown",
   "metadata": {},
   "source": [
    "将列表拆分成头部和尾部"
   ]
  },
  {
   "cell_type": "code",
   "execution_count": null,
   "metadata": {
    "collapsed": true
   },
   "outputs": [],
   "source": [
    "items = [1, 10, 7, 4, 5, 9]\n",
    "\n",
    "# TODO: 拆分出head为1，tail为余下值\n",
    "\n",
    "print(head)\n",
    "print(tail)"
   ]
  },
  {
   "cell_type": "markdown",
   "metadata": {},
   "source": [
    "用deque来储存某项操作的最后几步结果。deque可以被看做一个限制了长度的list，当添加了新元素时，旧元素会被“顶出去”"
   ]
  },
  {
   "cell_type": "code",
   "execution_count": null,
   "metadata": {
    "collapsed": true
   },
   "outputs": [],
   "source": [
    "# TODO:对文本行lines寻找pattern，找到后就输出当前的匹配行以及最后几行查找结果\n",
    "def search(lines, pattern, history=5):\n",
    "    \n",
    "\n",
    "# Example use:\n",
    "if __name__ = '__main__':\n",
    "    with open('somefile.txt' as f):\n",
    "        for line, prevlines in search(f, 'Caroline', 5):\n",
    "            for pline in prevlines:\n",
    "                print(pline, end='')\n",
    "            print(line, end='')\n",
    "            print('-'*20)"
   ]
  },
  {
   "cell_type": "markdown",
   "metadata": {},
   "source": [
    "找到最大和最小的N个元素"
   ]
  },
  {
   "cell_type": "code",
   "execution_count": null,
   "metadata": {
    "collapsed": true
   },
   "outputs": [],
   "source": [
    "nums = [1, 8, 2, 23, 7, -4, 18, 23, 42, 37, 2]\n",
    "\n",
    "# TODO：找出最大和最小的3个元素并赋值\n",
    "\n",
    "print(largest)\n",
    "print(smallest)"
   ]
  },
  {
   "cell_type": "markdown",
   "metadata": {},
   "source": [
    "这种方法可以应用在更复杂的数据结构之上："
   ]
  },
  {
   "cell_type": "code",
   "execution_count": null,
   "metadata": {
    "collapsed": true
   },
   "outputs": [],
   "source": [
    "portfolio = [\n",
    "   {'name': 'IBM', 'shares': 100, 'price': 91.1},\n",
    "   {'name': 'AAPL', 'shares': 50, 'price': 543.22},\n",
    "   {'name': 'FB', 'shares': 200, 'price': 21.09},\n",
    "   {'name': 'HPQ', 'shares': 35, 'price': 31.75},\n",
    "   {'name': 'YHOO', 'shares': 45, 'price': 16.35},\n",
    "   {'name': 'ACME', 'shares': 75, 'price': 115.65}\n",
    "]\n",
    "\n",
    "cheap = \n",
    "expensive = \n",
    "\n",
    "print(cheap)\n",
    "print(expensive)"
   ]
  },
  {
   "cell_type": "markdown",
   "metadata": {},
   "source": [
    "如果在寻找最大和最小的N个元素，且N和所有元素相比数值很小，可以使用如下方法，让函数以堆的方式排列："
   ]
  },
  {
   "cell_type": "code",
   "execution_count": null,
   "metadata": {
    "collapsed": true
   },
   "outputs": [],
   "source": [
    "nums = [1, 8, 2, 23, 7, -4, 18, 23, 42, 37, 2]\n",
    "\n",
    "# TODO:输出列表的三位最小数字\n",
    "smallestA = \n",
    "smallestB = \n",
    "smallestC =\n",
    "\n",
    "print(smallestA)\n",
    "print(smallestB)\n",
    "print(smallestC)"
   ]
  },
  {
   "cell_type": "markdown",
   "metadata": {},
   "source": [
    "我们想要实现一个队列，它能够以给定的优先级来对元素排序，且每次pop操作时都会返回优先级最高的那个元素"
   ]
  },
  {
   "cell_type": "code",
   "execution_count": null,
   "metadata": {
    "collapsed": true
   },
   "outputs": [],
   "source": [
    "class PriorityQueue:\n",
    "    def __init__(self):\n",
    "\n",
    "\n",
    "    def push(self, item, priority):\n",
    "\n",
    "        \n",
    "    def pop(self):\n",
    "\n",
    "\n",
    "# Example use\n",
    "class Item:\n",
    "    def __init__(self, name):\n",
    "        self.name = name\n",
    "    def __repr__(self):\n",
    "        return 'Item({!r})'.format(self.name)\n",
    "\n",
    "q = PriorityQueue()\n",
    "q.push(Item('foo'), 1)\n",
    "q.push(Item('bar'), 5)\n",
    "q.push(Item('spam'), 4)\n",
    "q.push(Item('grok'), 1)\n",
    "\n",
    "print(\"Should be bar:\", q.pop())\n",
    "print(\"Should be spam:\", q.pop())\n",
    "print(\"Should be foo:\", q.pop())\n",
    "print(\"Should be grok:\", q.pop())"
   ]
  },
  {
   "cell_type": "markdown",
   "metadata": {},
   "source": [
    "我们想要一个能将key映射到多个值的dictionary（[multidict]）"
   ]
  },
  {
   "cell_type": "code",
   "execution_count": null,
   "metadata": {
    "collapsed": true
   },
   "outputs": [],
   "source": [
    "# 需要保留顺序：\n",
    "d = {\n",
    "    'a':[1, 2, 3]\n",
    "    'b':[4, 5]\n",
    "}\n",
    "\n",
    "# TODO: 建立需要保留顺序的字典\n",
    "\n",
    "# 不需要保留顺序，并去掉重复值\n",
    "e = {\n",
    "    'a':{1, 2, 3}\n",
    "    'b':{4, 5}\n",
    "}\n",
    "# TODO: 建立不需要保留顺序并去重的字典\n"
   ]
  },
  {
   "cell_type": "markdown",
   "metadata": {},
   "source": [
    "让字典保持有序：对字典做迭代或序列化操作时，也能控制其中元素的顺序"
   ]
  },
  {
   "cell_type": "code",
   "execution_count": null,
   "metadata": {
    "collapsed": true
   },
   "outputs": [],
   "source": [
    "# Todo:建立一个有序的字典\n",
    "\n",
    "# 下面的代码能够按照你建立的顺序输出：\n",
    "for key in d:\n",
    "    print(key, d[key])"
   ]
  },
  {
   "cell_type": "markdown",
   "metadata": {},
   "source": [
    "对字典中的value进行各式计算"
   ]
  },
  {
   "cell_type": "code",
   "execution_count": null,
   "metadata": {
    "collapsed": true
   },
   "outputs": [],
   "source": [
    "prices = {\n",
    "   'ACME': 45.23,\n",
    "   'AAPL': 612.78,\n",
    "   'IBM': 205.55,\n",
    "   'HPQ': 37.20,\n",
    "   'FB': 10.75\n",
    "}\n",
    "\n",
    "# TODO：Find min and max price\n",
    "min_price = \n",
    "max_price = \n",
    "\n",
    "print('min price:', min_price)\n",
    "print('max price:', max_price)\n",
    "\n",
    "#TODO：对数据进行排序\n",
    "print('sorted prices:')\n",
    "prices_sorted = \n",
    "for price, name in prices_sorted:\n",
    "    print('    ', name, price)\n"
   ]
  },
  {
   "cell_type": "markdown",
   "metadata": {},
   "source": [
    "在两个字典中寻找相同点"
   ]
  },
  {
   "cell_type": "code",
   "execution_count": null,
   "metadata": {
    "collapsed": true
   },
   "outputs": [],
   "source": [
    "a = {\n",
    "    'x': 1,\n",
    "    'y': 2,\n",
    "    'z': 3\n",
    "}\n",
    "\n",
    "b = {\n",
    "    'w': 10,\n",
    "    'x': 11,\n",
    "    'y': 2\n",
    "}\n",
    "\n",
    "# TODO: Find keys in common\n",
    "\n",
    "# TODO: Find keys in a that are not in b\n",
    "\n",
    "# TODO: Find (key,value) pairs in common\n",
    "\n",
    "# TODO: Make new dict out of a with 'z','w' key removed\n",
    "\n"
   ]
  },
  {
   "cell_type": "markdown",
   "metadata": {},
   "source": [
    "从 List 中移除重复项且保持元素间位置不变"
   ]
  },
  {
   "cell_type": "code",
   "execution_count": null,
   "metadata": {
    "collapsed": true
   },
   "outputs": [],
   "source": [
    "# TODO：If values in the list are hasable\n",
    "\n",
    "def dedupe(items):  \n",
    "    \n",
    "a = [1, 5, 2, 1, 9, 1, 5, 10]\n",
    "# yeilds 1,5,2,9,10\n",
    "list(dedupe(a))\n",
    "\n",
    "# TODO: If values in the list are not hasable\n",
    "\n",
    "def dedupe(items, key=None):\n",
    "    "
   ]
  }
 ],
 "metadata": {
  "anaconda-cloud": {},
  "kernelspec": {
   "display_name": "Python [conda env:tfboys]",
   "language": "python",
   "name": "conda-env-tfboys-py"
  },
  "language_info": {
   "codemirror_mode": {
    "name": "ipython",
    "version": 3
   },
   "file_extension": ".py",
   "mimetype": "text/x-python",
   "name": "python",
   "nbconvert_exporter": "python",
   "pygments_lexer": "ipython3",
   "version": "3.6.6"
  }
 },
 "nbformat": 4,
 "nbformat_minor": 2
}
